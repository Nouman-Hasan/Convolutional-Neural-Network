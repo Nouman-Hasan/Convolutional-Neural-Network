{
 "cells": [
  {
   "cell_type": "code",
   "execution_count": 1,
   "id": "405031d6",
   "metadata": {},
   "outputs": [],
   "source": [
    "import numpy as np\n",
    "import pandas as pd\n",
    "\n",
    "from tensorflow.keras.models import Sequential\n",
    "from tensorflow.keras.layers import Convolution2D, MaxPooling2D, Flatten, Dense, BatchNormalization, Dropout\n",
    "\n",
    "import matplotlib.pyplot as plt\n",
    "%matplotlib inline"
   ]
  },
  {
   "cell_type": "code",
   "execution_count": 2,
   "id": "0fd173fd",
   "metadata": {},
   "outputs": [
    {
     "name": "stdout",
     "output_type": "stream",
     "text": [
      "Found 45 images belonging to 7 classes.\n",
      "Found 19 images belonging to 7 classes.\n"
     ]
    }
   ],
   "source": [
    "#IMAGE PREPROCESSING\n",
    "from keras.preprocessing.image import ImageDataGenerator\n",
    "\n",
    "train_datagen = ImageDataGenerator(rescale=1./255,                                   \n",
    "                                   shear_range=0.2,\n",
    "                                   zoom_range=0.2,\n",
    "                                   horizontal_flip=True)\n",
    "\n",
    "validation_datagen = ImageDataGenerator(rescale=1./255)\n",
    "\n",
    "training_set = train_datagen.flow_from_directory('training_data',                                                 \n",
    "                                                 target_size=(256, 256),\n",
    "                                                 batch_size=4,\n",
    "                                                 class_mode='categorical')\n",
    "\n",
    "validation_set = validation_datagen.flow_from_directory('validation_data',                                                        \n",
    "                                                        target_size=(256, 256),\n",
    "                                                        batch_size=4,\n",
    "                                                        class_mode='categorical')"
   ]
  },
  {
   "cell_type": "code",
   "execution_count": 3,
   "id": "d9bb441a",
   "metadata": {},
   "outputs": [],
   "source": [
    "model = Sequential()\n",
    "\n",
    "model.add(Convolution2D(64, 3,3, input_shape=(256,256,3), activation=('relu')))\n",
    "model.add(Dropout(0.2))\n",
    "model.add(MaxPooling2D(pool_size=(2,2)))\n",
    "model.add(BatchNormalization())\n",
    "\n",
    "model.add(Convolution2D(128, 3,3, activation=('relu')))\n",
    "model.add(Dropout(0.2))\n",
    "model.add(MaxPooling2D(pool_size=(2,2)))\n",
    "model.add(BatchNormalization())\n",
    "\n",
    "model.add(Flatten())\n",
    "\n",
    "model.add(Dense(128, activation='relu'))\n",
    "model.add(Dropout(0.2))\n",
    "model.add(Dense(64, activation='relu'))\n",
    "model.add(Dropout(0.2))\n",
    "model.add(Dense(7, activation='softmax'))\n",
    "\n",
    "model.compile(optimizer = 'adam', loss = 'categorical_crossentropy', metrics=(['accuracy']))"
   ]
  },
  {
   "cell_type": "code",
   "execution_count": 4,
   "id": "6ce0c946",
   "metadata": {
    "scrolled": true
   },
   "outputs": [
    {
     "name": "stdout",
     "output_type": "stream",
     "text": [
      "Epoch 1/75\n",
      "12/12 [==============================] - 8s 645ms/step - loss: 4.6972 - accuracy: 0.0667 - val_loss: 1.9974 - val_accuracy: 0.1579\n",
      "Epoch 2/75\n",
      "12/12 [==============================] - 7s 555ms/step - loss: 3.7326 - accuracy: 0.1556 - val_loss: 2.0219 - val_accuracy: 0.1053\n",
      "Epoch 3/75\n",
      "12/12 [==============================] - 6s 525ms/step - loss: 2.7528 - accuracy: 0.2222 - val_loss: 1.9923 - val_accuracy: 0.1053\n",
      "Epoch 4/75\n",
      "12/12 [==============================] - 6s 538ms/step - loss: 2.6691 - accuracy: 0.2444 - val_loss: 1.9754 - val_accuracy: 0.1579\n",
      "Epoch 5/75\n",
      "12/12 [==============================] - 6s 517ms/step - loss: 2.4121 - accuracy: 0.2889 - val_loss: 1.9754 - val_accuracy: 0.1053\n",
      "Epoch 6/75\n",
      "12/12 [==============================] - 6s 533ms/step - loss: 3.1788 - accuracy: 0.2444 - val_loss: 1.9753 - val_accuracy: 0.1579\n",
      "Epoch 7/75\n",
      "12/12 [==============================] - 7s 544ms/step - loss: 3.2729 - accuracy: 0.2000 - val_loss: 2.0483 - val_accuracy: 0.1053\n",
      "Epoch 8/75\n",
      "12/12 [==============================] - 6s 531ms/step - loss: 2.4991 - accuracy: 0.2444 - val_loss: 1.9938 - val_accuracy: 0.2105\n",
      "Epoch 9/75\n",
      "12/12 [==============================] - 6s 534ms/step - loss: 2.6371 - accuracy: 0.2889 - val_loss: 2.0159 - val_accuracy: 0.2105\n",
      "Epoch 10/75\n",
      "12/12 [==============================] - 6s 535ms/step - loss: 2.1083 - accuracy: 0.2889 - val_loss: 2.1035 - val_accuracy: 0.1579\n",
      "Epoch 11/75\n",
      "12/12 [==============================] - 7s 568ms/step - loss: 2.1137 - accuracy: 0.3333 - val_loss: 2.0746 - val_accuracy: 0.1579\n",
      "Epoch 12/75\n",
      "12/12 [==============================] - 6s 525ms/step - loss: 2.0823 - accuracy: 0.2667 - val_loss: 2.0559 - val_accuracy: 0.1053\n",
      "Epoch 13/75\n",
      "12/12 [==============================] - 6s 528ms/step - loss: 2.8064 - accuracy: 0.2222 - val_loss: 2.0740 - val_accuracy: 0.1579\n",
      "Epoch 14/75\n",
      "12/12 [==============================] - 6s 530ms/step - loss: 2.0026 - accuracy: 0.2444 - val_loss: 2.0414 - val_accuracy: 0.1579\n",
      "Epoch 15/75\n",
      "12/12 [==============================] - 7s 547ms/step - loss: 1.7031 - accuracy: 0.4222 - val_loss: 2.1796 - val_accuracy: 0.1579\n",
      "Epoch 16/75\n",
      "12/12 [==============================] - 6s 530ms/step - loss: 2.1785 - accuracy: 0.2444 - val_loss: 2.1677 - val_accuracy: 0.1579\n",
      "Epoch 17/75\n",
      "12/12 [==============================] - 6s 534ms/step - loss: 1.6260 - accuracy: 0.3333 - val_loss: 2.2208 - val_accuracy: 0.1579\n",
      "Epoch 18/75\n",
      "12/12 [==============================] - 6s 533ms/step - loss: 1.5560 - accuracy: 0.5111 - val_loss: 2.1428 - val_accuracy: 0.1053\n",
      "Epoch 19/75\n",
      "12/12 [==============================] - 7s 546ms/step - loss: 1.8409 - accuracy: 0.3778 - val_loss: 2.1414 - val_accuracy: 0.1579\n",
      "Epoch 20/75\n",
      "12/12 [==============================] - 6s 540ms/step - loss: 2.0467 - accuracy: 0.4000 - val_loss: 2.1495 - val_accuracy: 0.2105\n",
      "Epoch 21/75\n",
      "12/12 [==============================] - 6s 541ms/step - loss: 1.9101 - accuracy: 0.3778 - val_loss: 2.0857 - val_accuracy: 0.1579\n",
      "Epoch 22/75\n",
      "12/12 [==============================] - 6s 536ms/step - loss: 1.7599 - accuracy: 0.3778 - val_loss: 2.0502 - val_accuracy: 0.1579\n",
      "Epoch 23/75\n",
      "12/12 [==============================] - 7s 545ms/step - loss: 2.0638 - accuracy: 0.2889 - val_loss: 2.0799 - val_accuracy: 0.1579\n",
      "Epoch 24/75\n",
      "12/12 [==============================] - 6s 531ms/step - loss: 1.8719 - accuracy: 0.3556 - val_loss: 2.0145 - val_accuracy: 0.1579\n",
      "Epoch 25/75\n",
      "12/12 [==============================] - 6s 527ms/step - loss: 1.4311 - accuracy: 0.3778 - val_loss: 2.0532 - val_accuracy: 0.1579\n",
      "Epoch 26/75\n",
      "12/12 [==============================] - 6s 535ms/step - loss: 1.5330 - accuracy: 0.4444 - val_loss: 2.1134 - val_accuracy: 0.1579\n",
      "Epoch 27/75\n",
      "12/12 [==============================] - 6s 530ms/step - loss: 1.5299 - accuracy: 0.4667 - val_loss: 2.2242 - val_accuracy: 0.1579\n",
      "Epoch 28/75\n",
      "12/12 [==============================] - 6s 532ms/step - loss: 1.2433 - accuracy: 0.5333 - val_loss: 2.3973 - val_accuracy: 0.2105\n",
      "Epoch 29/75\n",
      "12/12 [==============================] - 7s 544ms/step - loss: 1.6273 - accuracy: 0.4667 - val_loss: 2.2564 - val_accuracy: 0.2632\n",
      "Epoch 30/75\n",
      "12/12 [==============================] - 7s 547ms/step - loss: 1.5200 - accuracy: 0.4667 - val_loss: 2.0708 - val_accuracy: 0.1579\n",
      "Epoch 31/75\n",
      "12/12 [==============================] - 6s 529ms/step - loss: 1.5638 - accuracy: 0.3778 - val_loss: 2.1143 - val_accuracy: 0.2105\n",
      "Epoch 32/75\n",
      "12/12 [==============================] - 7s 560ms/step - loss: 1.4584 - accuracy: 0.5333 - val_loss: 2.2373 - val_accuracy: 0.2105\n",
      "Epoch 33/75\n",
      "12/12 [==============================] - 6s 531ms/step - loss: 1.3723 - accuracy: 0.4667 - val_loss: 2.3994 - val_accuracy: 0.1053\n",
      "Epoch 34/75\n",
      "12/12 [==============================] - 6s 534ms/step - loss: 1.3222 - accuracy: 0.5556 - val_loss: 2.3522 - val_accuracy: 0.1579\n",
      "Epoch 35/75\n",
      "12/12 [==============================] - 6s 526ms/step - loss: 1.5065 - accuracy: 0.4222 - val_loss: 2.2080 - val_accuracy: 0.2632\n",
      "Epoch 36/75\n",
      "12/12 [==============================] - 6s 540ms/step - loss: 1.4590 - accuracy: 0.4889 - val_loss: 2.1386 - val_accuracy: 0.1053\n",
      "Epoch 37/75\n",
      "12/12 [==============================] - 6s 539ms/step - loss: 1.3410 - accuracy: 0.4889 - val_loss: 2.0493 - val_accuracy: 0.1579\n",
      "Epoch 38/75\n",
      "12/12 [==============================] - 7s 543ms/step - loss: 1.4329 - accuracy: 0.4667 - val_loss: 2.0559 - val_accuracy: 0.2632\n",
      "Epoch 39/75\n",
      "12/12 [==============================] - 6s 539ms/step - loss: 1.4324 - accuracy: 0.5333 - val_loss: 2.0119 - val_accuracy: 0.2105\n",
      "Epoch 40/75\n",
      "12/12 [==============================] - 6s 533ms/step - loss: 1.3581 - accuracy: 0.5556 - val_loss: 1.8640 - val_accuracy: 0.3158\n",
      "Epoch 41/75\n",
      "12/12 [==============================] - 6s 533ms/step - loss: 1.5794 - accuracy: 0.5556 - val_loss: 1.7493 - val_accuracy: 0.3158\n",
      "Epoch 42/75\n",
      "12/12 [==============================] - 6s 530ms/step - loss: 1.1345 - accuracy: 0.6222 - val_loss: 1.7645 - val_accuracy: 0.2632\n",
      "Epoch 43/75\n",
      "12/12 [==============================] - 6s 533ms/step - loss: 1.4807 - accuracy: 0.4667 - val_loss: 1.7846 - val_accuracy: 0.3684\n",
      "Epoch 44/75\n",
      "12/12 [==============================] - 6s 523ms/step - loss: 1.3551 - accuracy: 0.4444 - val_loss: 1.8061 - val_accuracy: 0.3684\n",
      "Epoch 45/75\n",
      "12/12 [==============================] - 6s 527ms/step - loss: 1.2740 - accuracy: 0.5333 - val_loss: 1.6628 - val_accuracy: 0.5263\n",
      "Epoch 46/75\n",
      "12/12 [==============================] - 6s 537ms/step - loss: 1.3982 - accuracy: 0.4444 - val_loss: 1.8753 - val_accuracy: 0.4211\n",
      "Epoch 47/75\n",
      "12/12 [==============================] - 6s 539ms/step - loss: 1.3490 - accuracy: 0.5556 - val_loss: 1.7437 - val_accuracy: 0.4211\n",
      "Epoch 48/75\n",
      "12/12 [==============================] - 6s 535ms/step - loss: 1.2891 - accuracy: 0.4889 - val_loss: 1.7912 - val_accuracy: 0.3158\n",
      "Epoch 49/75\n",
      "12/12 [==============================] - 7s 544ms/step - loss: 1.0240 - accuracy: 0.6444 - val_loss: 1.8193 - val_accuracy: 0.3684\n",
      "Epoch 50/75\n",
      "12/12 [==============================] - 6s 538ms/step - loss: 1.2058 - accuracy: 0.5778 - val_loss: 1.8251 - val_accuracy: 0.4211\n",
      "Epoch 51/75\n",
      "12/12 [==============================] - 6s 526ms/step - loss: 1.3157 - accuracy: 0.5111 - val_loss: 1.9337 - val_accuracy: 0.2632\n",
      "Epoch 52/75\n",
      "12/12 [==============================] - 6s 526ms/step - loss: 1.2605 - accuracy: 0.5556 - val_loss: 1.6825 - val_accuracy: 0.4737\n",
      "Epoch 53/75\n",
      "12/12 [==============================] - 6s 530ms/step - loss: 1.1110 - accuracy: 0.6000 - val_loss: 1.5886 - val_accuracy: 0.4211\n",
      "Epoch 54/75\n",
      "12/12 [==============================] - 7s 543ms/step - loss: 1.1954 - accuracy: 0.5778 - val_loss: 1.3388 - val_accuracy: 0.4737\n",
      "Epoch 55/75\n",
      "12/12 [==============================] - 7s 583ms/step - loss: 1.1127 - accuracy: 0.6444 - val_loss: 1.4362 - val_accuracy: 0.4211\n",
      "Epoch 56/75\n",
      "12/12 [==============================] - 6s 541ms/step - loss: 1.4370 - accuracy: 0.4667 - val_loss: 1.5668 - val_accuracy: 0.3684\n",
      "Epoch 57/75\n",
      "12/12 [==============================] - 6s 538ms/step - loss: 1.0340 - accuracy: 0.6000 - val_loss: 1.5255 - val_accuracy: 0.4737\n",
      "Epoch 58/75\n"
     ]
    },
    {
     "name": "stdout",
     "output_type": "stream",
     "text": [
      "12/12 [==============================] - 7s 564ms/step - loss: 0.9533 - accuracy: 0.6000 - val_loss: 1.6374 - val_accuracy: 0.3158\n",
      "Epoch 59/75\n",
      "12/12 [==============================] - 6s 532ms/step - loss: 0.9706 - accuracy: 0.6222 - val_loss: 1.6944 - val_accuracy: 0.2632\n",
      "Epoch 60/75\n",
      "12/12 [==============================] - 7s 543ms/step - loss: 1.0826 - accuracy: 0.6222 - val_loss: 1.8343 - val_accuracy: 0.3158\n",
      "Epoch 61/75\n",
      "12/12 [==============================] - 7s 571ms/step - loss: 0.8165 - accuracy: 0.6667 - val_loss: 1.8957 - val_accuracy: 0.3158\n",
      "Epoch 62/75\n",
      "12/12 [==============================] - 6s 540ms/step - loss: 0.8555 - accuracy: 0.6444 - val_loss: 1.8654 - val_accuracy: 0.3158\n",
      "Epoch 63/75\n",
      "12/12 [==============================] - 6s 528ms/step - loss: 1.0796 - accuracy: 0.6222 - val_loss: 1.7260 - val_accuracy: 0.3158\n",
      "Epoch 64/75\n",
      "12/12 [==============================] - 6s 541ms/step - loss: 1.1536 - accuracy: 0.6222 - val_loss: 1.7456 - val_accuracy: 0.4737\n",
      "Epoch 65/75\n",
      "12/12 [==============================] - 6s 539ms/step - loss: 0.8425 - accuracy: 0.7111 - val_loss: 1.6392 - val_accuracy: 0.5789\n",
      "Epoch 66/75\n",
      "12/12 [==============================] - 6s 537ms/step - loss: 0.5684 - accuracy: 0.8000 - val_loss: 1.5848 - val_accuracy: 0.5789\n",
      "Epoch 67/75\n",
      "12/12 [==============================] - 6s 541ms/step - loss: 0.7401 - accuracy: 0.7556 - val_loss: 1.6693 - val_accuracy: 0.5789\n",
      "Epoch 68/75\n",
      "12/12 [==============================] - 6s 537ms/step - loss: 0.9170 - accuracy: 0.5778 - val_loss: 1.6123 - val_accuracy: 0.4737\n",
      "Epoch 69/75\n",
      "12/12 [==============================] - 6s 541ms/step - loss: 0.7204 - accuracy: 0.7556 - val_loss: 1.6127 - val_accuracy: 0.4737\n",
      "Epoch 70/75\n",
      "12/12 [==============================] - 6s 523ms/step - loss: 0.8554 - accuracy: 0.6444 - val_loss: 1.5619 - val_accuracy: 0.4737\n",
      "Epoch 71/75\n",
      "12/12 [==============================] - 6s 535ms/step - loss: 0.7451 - accuracy: 0.7111 - val_loss: 1.8468 - val_accuracy: 0.4211\n",
      "Epoch 72/75\n",
      "12/12 [==============================] - 6s 527ms/step - loss: 1.0296 - accuracy: 0.6444 - val_loss: 2.2871 - val_accuracy: 0.3684\n",
      "Epoch 73/75\n",
      "12/12 [==============================] - 6s 530ms/step - loss: 1.0940 - accuracy: 0.6444 - val_loss: 2.3258 - val_accuracy: 0.3158\n",
      "Epoch 74/75\n",
      "12/12 [==============================] - 6s 537ms/step - loss: 1.0383 - accuracy: 0.5778 - val_loss: 2.0226 - val_accuracy: 0.3158\n",
      "Epoch 75/75\n",
      "12/12 [==============================] - 6s 536ms/step - loss: 0.9283 - accuracy: 0.7333 - val_loss: 1.7977 - val_accuracy: 0.4211\n"
     ]
    },
    {
     "data": {
      "text/plain": [
       "<tensorflow.python.keras.callbacks.History at 0x209567166d0>"
      ]
     },
     "execution_count": 4,
     "metadata": {},
     "output_type": "execute_result"
    }
   ],
   "source": [
    "model.fit(\n",
    "        training_set,\n",
    "        epochs=75,\n",
    "        validation_data=validation_set)"
   ]
  },
  {
   "cell_type": "code",
   "execution_count": 5,
   "id": "b59c7ec0",
   "metadata": {
    "scrolled": true
   },
   "outputs": [
    {
     "name": "stdout",
     "output_type": "stream",
     "text": [
      "Model: \"sequential\"\n",
      "_________________________________________________________________\n",
      "Layer (type)                 Output Shape              Param #   \n",
      "=================================================================\n",
      "conv2d (Conv2D)              (None, 85, 85, 64)        1792      \n",
      "_________________________________________________________________\n",
      "dropout (Dropout)            (None, 85, 85, 64)        0         \n",
      "_________________________________________________________________\n",
      "max_pooling2d (MaxPooling2D) (None, 42, 42, 64)        0         \n",
      "_________________________________________________________________\n",
      "batch_normalization (BatchNo (None, 42, 42, 64)        256       \n",
      "_________________________________________________________________\n",
      "conv2d_1 (Conv2D)            (None, 14, 14, 128)       73856     \n",
      "_________________________________________________________________\n",
      "dropout_1 (Dropout)          (None, 14, 14, 128)       0         \n",
      "_________________________________________________________________\n",
      "max_pooling2d_1 (MaxPooling2 (None, 7, 7, 128)         0         \n",
      "_________________________________________________________________\n",
      "batch_normalization_1 (Batch (None, 7, 7, 128)         512       \n",
      "_________________________________________________________________\n",
      "flatten (Flatten)            (None, 6272)              0         \n",
      "_________________________________________________________________\n",
      "dense (Dense)                (None, 128)               802944    \n",
      "_________________________________________________________________\n",
      "dropout_2 (Dropout)          (None, 128)               0         \n",
      "_________________________________________________________________\n",
      "dense_1 (Dense)              (None, 64)                8256      \n",
      "_________________________________________________________________\n",
      "dropout_3 (Dropout)          (None, 64)                0         \n",
      "_________________________________________________________________\n",
      "dense_2 (Dense)              (None, 7)                 455       \n",
      "=================================================================\n",
      "Total params: 888,071\n",
      "Trainable params: 887,687\n",
      "Non-trainable params: 384\n",
      "_________________________________________________________________\n"
     ]
    }
   ],
   "source": [
    "model.summary()"
   ]
  },
  {
   "cell_type": "code",
   "execution_count": 6,
   "id": "8201a25e",
   "metadata": {},
   "outputs": [
    {
     "data": {
      "text/plain": [
       "<AxesSubplot:>"
      ]
     },
     "execution_count": 6,
     "metadata": {},
     "output_type": "execute_result"
    },
    {
     "data": {
      "image/png": "[encoded data removed]",
      "text/plain": [
       "<Figure size 432x288 with 1 Axes>"
      ]
     },
     "metadata": {
      "needs_background": "light"
     },
     "output_type": "display_data"
    }
   ],
   "source": [
    "losses = pd.DataFrame(model.history.history)\n",
    "losses.plot()"
   ]
  },
  {
   "cell_type": "code",
   "execution_count": 7,
   "id": "649108af",
   "metadata": {},
   "outputs": [],
   "source": [
    "predictions = model.predict(x = validation_set)"
   ]
  },
  {
   "cell_type": "code",
   "execution_count": 8,
   "id": "291eacca",
   "metadata": {},
   "outputs": [
    {
     "name": "stdout",
     "output_type": "stream",
     "text": [
      "4\n",
      "6\n",
      "2\n",
      "1\n",
      "2\n",
      "3\n",
      "1\n",
      "6\n",
      "3\n",
      "6\n",
      "6\n",
      "6\n",
      "3\n",
      "6\n",
      "5\n",
      "6\n",
      "0\n",
      "6\n",
      "6\n"
     ]
    }
   ],
   "source": [
    "predictions = np.argmax(predictions, axis=-1)\n",
    "\n",
    "for i in predictions:\n",
    "    print(i)"
   ]
  },
  {
   "cell_type": "code",
   "execution_count": 9,
   "id": "c121b7fb",
   "metadata": {},
   "outputs": [
    {
     "data": {
      "text/plain": [
       "{'angry': 0,\n",
       " 'disgust': 1,\n",
       " 'fear': 2,\n",
       " 'happy': 3,\n",
       " 'neutral': 4,\n",
       " 'sad': 5,\n",
       " 'surprise': 6}"
      ]
     },
     "execution_count": 9,
     "metadata": {},
     "output_type": "execute_result"
    }
   ],
   "source": [
    "training_set.class_indices"
   ]
  },
  {
   "cell_type": "code",
   "execution_count": 10,
   "id": "29f3f2f9",
   "metadata": {},
   "outputs": [],
   "source": [
    "from sklearn.metrics import confusion_matrix\n",
    "import seaborn as sns"
   ]
  },
  {
   "cell_type": "code",
   "execution_count": 11,
   "id": "e8aa1230",
   "metadata": {},
   "outputs": [
    {
     "data": {
      "text/plain": [
       "<AxesSubplot:>"
      ]
     },
     "execution_count": 11,
     "metadata": {},
     "output_type": "execute_result"
    },
    {
     "data": {
      "image/png": "[encoded data removed]",
      "text/plain": [
       "<Figure size 1800x900 with 2 Axes>"
      ]
     },
     "metadata": {
      "needs_background": "light"
     },
     "output_type": "display_data"
    }
   ],
   "source": [
    "plt.figure(figsize=(12,6), dpi = 150)\n",
    "cm = confusion_matrix(validation_set.labels, predictions)\n",
    "\n",
    "sns.heatmap(cm, annot=True)"
   ]
  },
  {
   "cell_type": "code",
   "execution_count": null,
   "id": "8763a61d",
   "metadata": {},
   "outputs": [],
   "source": []
  }
 ],
 "metadata": {
  "kernelspec": {
   "display_name": "Python 3 (ipykernel)",
   "language": "python",
   "name": "python3"
  },
  "language_info": {
   "codemirror_mode": {
    "name": "ipython",
    "version": 3
   },
   "file_extension": ".py",
   "mimetype": "text/x-python",
   "name": "python",
   "nbconvert_exporter": "python",
   "pygments_lexer": "ipython3",
   "version": "3.8.12"
  }
 },
 "nbformat": 4,
 "nbformat_minor": 5
}
